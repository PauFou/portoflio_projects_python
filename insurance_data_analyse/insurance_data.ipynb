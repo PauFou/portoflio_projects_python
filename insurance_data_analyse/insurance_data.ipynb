{
 "cells": [
  {
   "cell_type": "markdown",
   "metadata": {},
   "source": [
    "1. Let's import the csv file and push it into a list of objects"
   ]
  },
  {
   "cell_type": "code",
   "execution_count": 35,
   "metadata": {},
   "outputs": [],
   "source": [
    "import csv\n",
    "\n",
    "insurance_data = []\n",
    "with open('insurance.csv', newline='') as insurance_csv:\n",
    "    headers = insurance_csv.readline().split(',')\n",
    "    next(insurance_csv)\n",
    "    for row in insurance_csv: \n",
    "        row = row.split(\",\")\n",
    "        insurance_data.append({ headers[0]: row[0] , headers[1]: row[1], headers[2]: row[2], headers[3]: row[3], headers[4]: row[4], headers[5]: row[5], headers[6].rstrip(): row[6].rstrip()})\n",
    "\n"
   ]
  },
  {
   "cell_type": "markdown",
   "metadata": {},
   "source": [
    "2. Now, let's have some infos about smokers"
   ]
  },
  {
   "cell_type": "code",
   "execution_count": 47,
   "metadata": {},
   "outputs": [
    {
     "name": "stdout",
     "output_type": "stream",
     "text": [
      "20.42% of the population are smokers\n",
      "\n",
      "They pay an average of $3210578.24 in charges compared to $843426.83 for non-smokers, which is about 2.806587751067867% more.\n"
     ]
    }
   ],
   "source": [
    "sum_of_smokers = 0\n",
    "smoker_charges = 0\n",
    "non_smoker_charges = 0\n",
    "for data in insurance_data: \n",
    "    if data[\"smoker\"] == \"yes\":\n",
    "        sum_of_smokers += 1\n",
    "        smoker_charges += float(data[\"charges\"])\n",
    "    else:\n",
    "        non_smoker_charges += float(data[\"charges\"])\n",
    "\n",
    "average_of_smokers = round((sum_of_smokers / len(insurance_data)) * 100, 2)\n",
    "\n",
    "average_smoker_charges = round((smoker_charges / sum_of_smokers) * 100, 2)\n",
    "average_non_smoker_charges = round((non_smoker_charges / (len(insurance_data) - sum_of_smokers)) * 100, 2)\n",
    "smoker_charges_diff = (average_smoker_charges - average_non_smoker_charges) / average_non_smoker_charges\n",
    "print(f\"{average_of_smokers}% of the population are smokers\\n\")\n",
    "\n",
    "print(f\"They pay an average of ${average_smoker_charges} in charges compared to ${average_non_smoker_charges} for non-smokers, which is about {smoker_charges_diff}% more.\")"
   ]
  },
  {
   "cell_type": "code",
   "execution_count": null,
   "metadata": {},
   "outputs": [],
   "source": []
  }
 ],
 "metadata": {
  "kernelspec": {
   "display_name": "Python 3.9.12",
   "language": "python",
   "name": "python3"
  },
  "language_info": {
   "codemirror_mode": {
    "name": "ipython",
    "version": 3
   },
   "file_extension": ".py",
   "mimetype": "text/x-python",
   "name": "python",
   "nbconvert_exporter": "python",
   "pygments_lexer": "ipython3",
   "version": "3.9.12"
  },
  "orig_nbformat": 4,
  "vscode": {
   "interpreter": {
    "hash": "38cca0c38332a56087b24af0bc80247f4fced29cb4f7f437d91dc159adec9c4e"
   }
  }
 },
 "nbformat": 4,
 "nbformat_minor": 2
}

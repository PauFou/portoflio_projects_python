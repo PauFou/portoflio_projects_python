{
 "cells": [
  {
   "cell_type": "markdown",
   "metadata": {},
   "source": [
    "# **1. Let's import the csv file and push it into a list of objects**"
   ]
  },
  {
   "cell_type": "code",
   "execution_count": 1,
   "metadata": {},
   "outputs": [],
   "source": [
    "import csv\n",
    "import matplotlib.pyplot as plt\n",
    "\n",
    "insurance_data = []\n",
    "with open('insurance.csv', newline='') as insurance_csv:\n",
    "    headers = insurance_csv.readline().split(',')\n",
    "    next(insurance_csv)\n",
    "    for row in insurance_csv: \n",
    "        row = row.split(\",\")\n",
    "        insurance_data.append({ headers[0]: row[0] , headers[1]: row[1], headers[2]: row[2], headers[3]: row[3], headers[4]: row[4], headers[5]: row[5], headers[6].rstrip(): row[6].rstrip()})\n",
    "\n"
   ]
  },
  {
   "cell_type": "markdown",
   "metadata": {},
   "source": [
    "# **2. Now, let's have some infos about smokers**"
   ]
  },
  {
   "cell_type": "code",
   "execution_count": 2,
   "metadata": {},
   "outputs": [
    {
     "name": "stdout",
     "output_type": "stream",
     "text": [
      "20.42% of the population are smokers\n",
      "\n",
      "They are on average 38.59 years old\n",
      "\n",
      "0.58% of smokers are men, compared to 0.42% of women.\n",
      "\n",
      "They pay an average of $32105.78 in charges compared to $8434.27 for non-smokers, which is about 280.66% more.\n",
      "They have an average bmi of 30.72, compared to 30.65 for non-smokers, about 0.23% higher.\n"
     ]
    }
   ],
   "source": [
    "sum_of_smokers = 0\n",
    "smoker_charges = 0\n",
    "non_smoker_charges = 0\n",
    "smoker_bmi = 0\n",
    "non_smoker_bmi = 0\n",
    "smoker_age = 0\n",
    "sum_men_smokers = 0\n",
    "\n",
    "for data in insurance_data: \n",
    "    if data[\"smoker\"] == \"yes\":\n",
    "        sum_of_smokers += 1\n",
    "        smoker_age += int(data[\"age\"])\n",
    "        smoker_charges += float(data[\"charges\"])\n",
    "        smoker_bmi += float(data[\"bmi\"])\n",
    "        if data[\"sex\"] == \"male\": sum_men_smokers += 1 \n",
    "    else:\n",
    "        non_smoker_charges += float(data[\"charges\"])\n",
    "        non_smoker_bmi += float(data[\"bmi\"])\n",
    "\n",
    "average_of_smokers = round((sum_of_smokers / len(insurance_data)) * 100, 2)\n",
    "age_of_smokers = round((smoker_age / sum_of_smokers), 2)\n",
    "average_man_smokers = round((sum_men_smokers / sum_of_smokers), 2)\n",
    "average_woman_smokers = round(1 - average_man_smokers, 2)\n",
    "\n",
    "average_smoker_charges = round((smoker_charges / sum_of_smokers), 2)\n",
    "average_non_smoker_charges = round((non_smoker_charges / (len(insurance_data) - sum_of_smokers)), 2)\n",
    "average_smoker_bmi = round((smoker_bmi / sum_of_smokers), 2)\n",
    "average_non_smoker_bmi = round((non_smoker_bmi / (len(insurance_data) - sum_of_smokers)), 2)\n",
    "\n",
    "smoker_charges_diff = round(((average_smoker_charges - average_non_smoker_charges) / average_non_smoker_charges) * 100, 2)\n",
    "smoker_bmi_diff = round(((average_smoker_bmi - average_non_smoker_bmi) / average_non_smoker_bmi) * 100, 2)\n",
    "\n",
    "print(f\"{average_of_smokers}% of the population are smokers\\n\")\n",
    "print(f\"They are on average {age_of_smokers} years old\\n\")\n",
    "print(f\"{average_man_smokers}% of smokers are men, compared to {average_woman_smokers}% of women.\\n\")\n",
    "\n",
    "print(f\"They pay an average of ${average_smoker_charges} in charges compared to ${average_non_smoker_charges} for non-smokers, which is about {smoker_charges_diff}% more.\")\n",
    "\n",
    "print(f\"They have an average bmi of {average_smoker_bmi}, compared to {average_non_smoker_bmi} for non-smokers, about {smoker_bmi_diff}% higher.\")"
   ]
  },
  {
   "cell_type": "markdown",
   "metadata": {},
   "source": [
    "# **3. Now let's compare the bmi with regions and age.**"
   ]
  },
  {
   "cell_type": "code",
   "execution_count": 5,
   "metadata": {},
   "outputs": [
    {
     "name": "stdout",
     "output_type": "stream",
     "text": [
      "     age     sex     bmi children smoker     region      charges\n",
      "0     18    male   33.77        1     no  southeast    1725.5523\n",
      "1247  18  female   39.82        0     no  southeast    1633.9618\n",
      "398   18  female   38.17        0     no  southeast    1631.6683\n",
      "101   18  female  30.115        0     no  northeast   21344.8467\n",
      "941   18  female  40.185        0     no  northeast   2217.46915\n",
      "...   ..     ...     ...      ...    ...        ...          ...\n",
      "1240  64    male   36.96        2    yes  southeast   49577.6624\n",
      "377   64  female  30.115        3     no  northwest  16455.70785\n",
      "751   64    male  37.905        0     no  northwest  14210.53595\n",
      "334   64    male    34.5        0     no  southwest    13822.803\n",
      "663   64  female   22.99        0    yes  southeast   27037.9141\n",
      "\n",
      "[1337 rows x 7 columns]\n"
     ]
    }
   ],
   "source": [
    "import pandas as pd\n",
    "\n",
    "pd = pd.DataFrame(insurance_data)\n",
    "print(pd.sort_values(by = \"age\"))\n",
    "\n",
    "\n"
   ]
  },
  {
   "cell_type": "code",
   "execution_count": 6,
   "metadata": {},
   "outputs": [
    {
     "name": "stdout",
     "output_type": "stream",
     "text": [
      "southeast\n",
      "{}\n",
      "northwest\n",
      "{}\n",
      "northeast\n",
      "{}\n",
      "southwest\n",
      "{}\n"
     ]
    }
   ],
   "source": [
    "regions =  list(dict.fromkeys([data[\"region\"] for data in insurance_data]))\n",
    "for region in regions: \n",
    "    print(region)\n",
    "    region = {}\n",
    "    print(region)\n",
    "\n"
   ]
  },
  {
   "cell_type": "code",
   "execution_count": null,
   "metadata": {},
   "outputs": [],
   "source": []
  },
  {
   "cell_type": "code",
   "execution_count": null,
   "metadata": {},
   "outputs": [],
   "source": []
  },
  {
   "cell_type": "code",
   "execution_count": null,
   "metadata": {},
   "outputs": [],
   "source": []
  }
 ],
 "metadata": {
  "kernelspec": {
   "display_name": "Python 3.9.12",
   "language": "python",
   "name": "python3"
  },
  "language_info": {
   "codemirror_mode": {
    "name": "ipython",
    "version": 3
   },
   "file_extension": ".py",
   "mimetype": "text/x-python",
   "name": "python",
   "nbconvert_exporter": "python",
   "pygments_lexer": "ipython3",
   "version": "3.9.12"
  },
  "orig_nbformat": 4,
  "vscode": {
   "interpreter": {
    "hash": "38cca0c38332a56087b24af0bc80247f4fced29cb4f7f437d91dc159adec9c4e"
   }
  }
 },
 "nbformat": 4,
 "nbformat_minor": 2
}
